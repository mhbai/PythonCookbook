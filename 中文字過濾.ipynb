{
 "cells": [
  {
   "cell_type": "code",
   "execution_count": 4,
   "metadata": {
    "collapsed": true
   },
   "outputs": [],
   "source": [
    "import re\n",
    "import json"
   ]
  },
  {
   "cell_type": "code",
   "execution_count": null,
   "metadata": {
    "collapsed": true
   },
   "outputs": [],
   "source": [
    "ch=u\"這是中文字，測試空白　。 This is English. 這是數字 12345. 「」() （）\""
   ]
  },
  {
   "cell_type": "code",
   "execution_count": 8,
   "metadata": {
    "collapsed": false
   },
   "outputs": [
    {
     "name": "stdout",
     "output_type": "stream",
     "text": [
      "[\"這是中文字\", \"測試空白\", \"這是數字\"]\n"
     ]
    }
   ],
   "source": [
    "# 找出中文字串\n",
    "regex = re.compile(u'''[\\u4E00-\\u9fa5]+''')\n",
    "L=regex.findall(ch)\n",
    "print json.dumps(L,ensure_ascii=False)"
   ]
  },
  {
   "cell_type": "code",
   "execution_count": 9,
   "metadata": {
    "collapsed": false
   },
   "outputs": [
    {
     "name": "stdout",
     "output_type": "stream",
     "text": [
      "[\"這\", \"是\", \"中\", \"文\", \"字\", \"測\", \"試\", \"空\", \"白\", \"這\", \"是\", \"數\", \"字\"]\n"
     ]
    }
   ],
   "source": [
    "# 找出中文字元\n",
    "regex = re.compile(u'''[\\u4E00-\\u9fa5]''')\n",
    "L=regex.findall(ch)\n",
    "print json.dumps(L,ensure_ascii=False)"
   ]
  }
 ],
 "metadata": {
  "kernelspec": {
   "display_name": "Python 2",
   "language": "python",
   "name": "python2"
  },
  "language_info": {
   "codemirror_mode": {
    "name": "ipython",
    "version": 2
   },
   "file_extension": ".py",
   "mimetype": "text/x-python",
   "name": "python",
   "nbconvert_exporter": "python",
   "pygments_lexer": "ipython2",
   "version": "2.7.12"
  }
 },
 "nbformat": 4,
 "nbformat_minor": 0
}
