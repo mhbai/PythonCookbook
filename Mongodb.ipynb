{
 "cells": [
  {
   "cell_type": "code",
   "execution_count": 1,
   "metadata": {
    "collapsed": true
   },
   "outputs": [],
   "source": [
    "import pymongo, json\n",
    "from collections import defaultdict\n",
    "import sys"
   ]
  },
  {
   "cell_type": "code",
   "execution_count": 12,
   "metadata": {},
   "outputs": [
    {
     "data": {
      "text/plain": [
       "[u'ProjectB',\n",
       " u'NTNUICE',\n",
       " u'PTT',\n",
       " u'AnnualWord',\n",
       " u'Research',\n",
       " u'PTT20170529',\n",
       " u'EnWikipedia',\n",
       " u'Collocations',\n",
       " u'Corpus2016',\n",
       " u'Corpus',\n",
       " u'Corpus2017',\n",
       " u'local',\n",
       " u'NAERTerminology',\n",
       " u'TaiwanPanorama',\n",
       " u'test',\n",
       " u'NTNU_Con2',\n",
       " u'admin']"
      ]
     },
     "execution_count": 12,
     "metadata": {},
     "output_type": "execute_result"
    }
   ],
   "source": [
    "# 顯示所有資料庫的名稱\n",
    "from pymongo import MongoClient\n",
    "#client = MongoClient('mongodb://localhost:27017/')\n",
    "client = pymongo.MongoClient('localhost',27017)\n",
    "client.database_names()"
   ]
  },
  {
   "cell_type": "code",
   "execution_count": 13,
   "metadata": {},
   "outputs": [
    {
     "data": {
      "text/plain": [
       "[u'system.indexes',\n",
       " u'UN1999',\n",
       " u'UN2000',\n",
       " u'UN2001',\n",
       " u'UN2002',\n",
       " u'UN2003',\n",
       " u'UN2004',\n",
       " u'UN2005',\n",
       " u'UN1999Seg',\n",
       " u'UN2001Seg',\n",
       " u'UN2003Seg',\n",
       " u'UN2000Seg',\n",
       " u'UN2004Seg',\n",
       " u'UN2002Seg',\n",
       " u'UN2005Seg',\n",
       " u'ChinaTime1999',\n",
       " u'ChinaTime2000',\n",
       " u'ChinaTime2001',\n",
       " u'ChinaTime2002',\n",
       " u'ChinaTime2003',\n",
       " u'ChinaTime2004',\n",
       " u'ChinaTime2005',\n",
       " u'ChinaTime2006',\n",
       " u'ChinaTime2007',\n",
       " u'ChinaTime2008',\n",
       " u'ChinaTime2009',\n",
       " u'ChinaTime2010',\n",
       " u'ChinaTime2011',\n",
       " u'ChinaTime2012',\n",
       " u'ChinaTime2013',\n",
       " u'ChinaTime2014',\n",
       " u'ChinaTime2015',\n",
       " u'ChinaTime1999Seg',\n",
       " u'ChinaTime2000Seg',\n",
       " u'ChinaTime2001Seg',\n",
       " u'ChinaTime2002Seg',\n",
       " u'ChinaTime2003Seg',\n",
       " u'ChinaTime2004Seg',\n",
       " u'ChinaTime2005Seg',\n",
       " u'ChinaTime2006Seg',\n",
       " u'ChinaTime2007Seg',\n",
       " u'ChinaTime2008Seg',\n",
       " u'ChinaTime2009Seg',\n",
       " u'ChinaTime2010Seg',\n",
       " u'ChinaTime2011Seg',\n",
       " u'ChinaTime2012Seg',\n",
       " u'ChinaTime2013Seg',\n",
       " u'ChinaTime2014Seg',\n",
       " u'ChinaTime2015Seg',\n",
       " u'UN2006',\n",
       " u'UN2007',\n",
       " u'UN2008',\n",
       " u'UN2009',\n",
       " u'UN2010',\n",
       " u'UN2011',\n",
       " u'UN2012',\n",
       " u'UN2013',\n",
       " u'UN2014',\n",
       " u'UN2015',\n",
       " u'UN2006Seg',\n",
       " u'UN2007Seg',\n",
       " u'UN2008Seg',\n",
       " u'UN2009Seg',\n",
       " u'UN2010Seg',\n",
       " u'UN2011Seg',\n",
       " u'UN2012Seg',\n",
       " u'UN2013Seg',\n",
       " u'UN2014Seg',\n",
       " u'UN2015Seg',\n",
       " u'MDN2010Seg',\n",
       " u'MDN2011Seg',\n",
       " u'MDN2012Seg',\n",
       " u'MDN2013Seg',\n",
       " u'MDN2014Seg',\n",
       " u'MDN2010',\n",
       " u'MDN2011',\n",
       " u'MDN2012',\n",
       " u'MDN2013',\n",
       " u'MDN2014',\n",
       " u'SINO102',\n",
       " u'SINO103',\n",
       " u'SINO104',\n",
       " u'SINO105',\n",
       " u'SINO102Seg',\n",
       " u'SINO103Seg',\n",
       " u'SINO104Seg',\n",
       " u'SINO105Seg']"
      ]
     },
     "execution_count": 13,
     "metadata": {},
     "output_type": "execute_result"
    }
   ],
   "source": [
    "# 選擇資料庫，並顯示所有 collections \n",
    "db=client['Corpus2017']\n",
    "db.collection_names()"
   ]
  },
  {
   "cell_type": "code",
   "execution_count": 20,
   "metadata": {},
   "outputs": [
    {
     "name": "stdout",
     "output_type": "stream",
     "text": [
      "{\n",
      "    \"ChTitle\": \"出發尋找新年味\", \n",
      "    \"Author\": \"文．朱立群　圖．莊坤儒\", \n",
      "    \"Number\": \"201402006\", \n",
      "    \"ChContent\": \"馬年到！「又」是新的一年。「又」，是無奈，也是期待。關於過年，你厭倦了？還是充滿期待？有人說：年味「淡」了，無趣。但也有人說：年味「換」了，但還是很好玩。當台灣的南北一日生活圈成形，高鐵往返只需2小時，返鄉過年，除了與家人團聚，還剩下什麼意義？高雄市交通局長、成功大學交通管理科學系特聘教授陳勁甫說：「運具，改變了返鄉旅程的模式。」意思是：高鐵、捷運，以及便利的公車接駁，省去了無謂的塞車時間，年節的安排，因此有了更多可能，可拜訪親友、可安排景點出遊……時間的餘裕，容許我們去做以前過年無暇做到的事。所以，在台灣過年，「換」了的年味在哪？先出發上路吧，再來回答這個問題。p.6年節期間，許多民眾提著伴手禮造訪外地親友。\", \n",
      "    \"EnTitle\": \"In Search of New New Year’s Flavors\", \n",
      "    \"_id\": {\n",
      "        \"$oid\": \"5988081611424344dda7c415\"\n",
      "    }, \n",
      "    \"EnAuthor\": \"(Sam Ju/photo by Chuang Kung-ju/tr. by Scott Williams)\", \n",
      "    \"EnContent\": \"The Year of the Horse has arrived. The Lunar New Year is upon us again.That “again” can convey both frustrations and anticipation. Are you fed up with the New Year’s holiday, or looking forward to it? Some suggest that the New Year has lost its savor, that it has become boring. Others argue that though the flavor has changed, it remains enjoyable. Taiwan’s high-speed rail system has cut travel times between Tai-pei and Kao-hsiung greatly. Does that change the meaning of going home for the holidays? Chen Ching-fu, the director-general of the Kao-hsiung City Transportation Bureau and a distinguished professor in the Department of Transportation and Communication Management Science at National -Cheng Kung University, states that transportation systems have indeed changed the way people journey home. What he means is that high-speed rail, metropolitan rapid transit systems, and convenient city bus transfers have greatly reduced time wasted stuck in traffic. This extra time opens up new ways in which to spend the Lunar New Year holidays, making it much easier for us to visit friends and family, or even to visit a scenic hot spot.It permits us to plan New Year’s activities that used to be impossible. Has this changed the character of the holiday in Taiwan? No need to answer right away. Wait until you’re back from your trip! p.6At Chinese New Year, many people visit family and friends bearing gifts of local specialty products.\"\n",
      "}\n"
     ]
    }
   ],
   "source": [
    "from bson.json_util import dumps\n",
    "print dumps(db.SINO103.find_one(),ensure_ascii=False,indent=4)"
   ]
  }
 ],
 "metadata": {
  "kernelspec": {
   "display_name": "Python 2",
   "language": "python",
   "name": "python2"
  },
  "language_info": {
   "codemirror_mode": {
    "name": "ipython",
    "version": 2
   },
   "file_extension": ".py",
   "mimetype": "text/x-python",
   "name": "python",
   "nbconvert_exporter": "python",
   "pygments_lexer": "ipython2",
   "version": "2.7.12"
  }
 },
 "nbformat": 4,
 "nbformat_minor": 2
}
