{
 "cells": [
  {
   "cell_type": "code",
   "execution_count": 2,
   "metadata": {
    "collapsed": false
   },
   "outputs": [
    {
     "name": "stdout",
     "output_type": "stream",
     "text": [
      "./Bunch -- 以物件方式操作 dictionary.ipynb\n",
      "./Cohens_kappa.ipynb\n",
      "./Collections.ipynb\n",
      "./data\n",
      "./Excel 檔讀寫.ipynb\n",
      "./json 檔讀寫.ipynb\n",
      "./Python 特殊語法.ipynb\n",
      "./中文字過濾.ipynb\n",
      "./中文斷詞系統.ipynb\n",
      "./檔案系統.ipynb\n"
     ]
    }
   ],
   "source": [
    "# 列出某目錄下所有檔名\n",
    "import glob\n",
    "for file in glob.iglob(\"./*\"):\n",
    "\tprint file"
   ]
  }
 ],
 "metadata": {
  "kernelspec": {
   "display_name": "Python 2",
   "language": "python",
   "name": "python2"
  },
  "language_info": {
   "codemirror_mode": {
    "name": "ipython",
    "version": 2
   },
   "file_extension": ".py",
   "mimetype": "text/x-python",
   "name": "python",
   "nbconvert_exporter": "python",
   "pygments_lexer": "ipython2",
   "version": "2.7.12"
  }
 },
 "nbformat": 4,
 "nbformat_minor": 0
}
