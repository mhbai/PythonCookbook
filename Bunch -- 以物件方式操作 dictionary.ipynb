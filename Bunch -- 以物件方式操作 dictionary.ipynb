{
 "cells": [
  {
   "cell_type": "code",
   "execution_count": 4,
   "metadata": {
    "collapsed": false
   },
   "outputs": [
    {
     "name": "stdout",
     "output_type": "stream",
     "text": [
      "set([10, 20])\n",
      "Bunch(a=10, b=20)\n",
      "{'a': 10, 'b': 20}\n"
     ]
    }
   ],
   "source": [
    "### Bunch 模組可以將 dictionary 當作 object 操作\n",
    "\n",
    "from bunch import Bunch\n",
    "\n",
    "# 直接使用 Bunch 的方法\n",
    "b=Bunch()\n",
    "b.a=10\n",
    "b.b=20\n",
    "print b\n",
    "\n",
    "# 將 dictionary 轉成 Bunch 物件\n",
    "a={10,20}\n",
    "a1=Bunch.fromDict(a)\n",
    "print a1\n",
    "\n",
    "# 將 Bunch 物件轉回 dictionary\n",
    "c = b.toDict()\n",
    "print c"
   ]
  }
 ],
 "metadata": {
  "kernelspec": {
   "display_name": "Python 2",
   "language": "python",
   "name": "python2"
  },
  "language_info": {
   "codemirror_mode": {
    "name": "ipython",
    "version": 2
   },
   "file_extension": ".py",
   "mimetype": "text/x-python",
   "name": "python",
   "nbconvert_exporter": "python",
   "pygments_lexer": "ipython2",
   "version": "2.7.12"
  }
 },
 "nbformat": 4,
 "nbformat_minor": 0
}
