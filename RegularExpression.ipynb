{
 "cells": [
  {
   "cell_type": "code",
   "execution_count": 12,
   "metadata": {
    "collapsed": false
   },
   "outputs": [
    {
     "name": "stdout",
     "output_type": "stream",
     "text": [
      "def FUNC,  a func\n",
      "def func,  a FUNC\n",
      "<span>A</span>, <span>B</span>\n",
      "<span>>A</span>, <spanB</span>\n"
     ]
    }
   ],
   "source": [
    "import re\n",
    "# 前條件 (lookbehind assertion)\n",
    "## postive lookbehind assertion\n",
    "## 只取代 def 前導的 func\n",
    "print re.sub('(?<=def )func', 'FUNC', 'def func,  a func')\n",
    "\n",
    "## negative lookbehind assertion\n",
    "## 只取代“不以” def 前導的 func\n",
    "print re.sub('(?<!def )func', 'FUNC', 'def func,  a func')\n",
    "\n",
    "# 後條件 (lookahead assertion)\n",
    "## positive lookahead assertion\n",
    "## 只取代後接 B 的 <span\n",
    "print re.sub(u'<span(?=B)',u'<span>', u'<span>A</span>, <spanB</span>')\n",
    "\n",
    "## negative lookahead assertion\n",
    "## 只取代後不接 B 的 <span\n",
    "print re.sub(u'<span(?!B)',u'<span>', u'<span>A</span>, <spanB</span>')\n"
   ]
  }
 ],
 "metadata": {
  "kernelspec": {
   "display_name": "Python 2",
   "language": "python",
   "name": "python2"
  },
  "language_info": {
   "codemirror_mode": {
    "name": "ipython",
    "version": 2
   },
   "file_extension": ".py",
   "mimetype": "text/x-python",
   "name": "python",
   "nbconvert_exporter": "python",
   "pygments_lexer": "ipython2",
   "version": "2.7.10"
  }
 },
 "nbformat": 4,
 "nbformat_minor": 0
}
