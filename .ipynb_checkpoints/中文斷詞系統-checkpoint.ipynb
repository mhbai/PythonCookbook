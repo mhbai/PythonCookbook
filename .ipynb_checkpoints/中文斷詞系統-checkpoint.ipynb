{
 "cells": [
  {
   "cell_type": "code",
   "execution_count": 7,
   "metadata": {
    "collapsed": true
   },
   "outputs": [],
   "source": [
    "# 中文斷詞系統\n",
    "from Segmentor import *\n",
    "import json"
   ]
  },
  {
   "cell_type": "code",
   "execution_count": 3,
   "metadata": {
    "collapsed": true
   },
   "outputs": [],
   "source": [
    "segmentor = Segmentor()\n",
    "tagger = POSTagger()"
   ]
  },
  {
   "cell_type": "code",
   "execution_count": 8,
   "metadata": {
    "collapsed": false
   },
   "outputs": [
    {
     "name": "stdout",
     "output_type": "stream",
     "text": [
      "[\"這\", \"是\", \"中文\", \"斷詞\", \"系統\", \"。\"]\n"
     ]
    }
   ],
   "source": [
    "# 中文斷詞\n",
    "L=segmentor.procSent(u\"這是中文斷詞系統。\")\n",
    "print json.dumps(L, ensure_ascii=False)"
   ]
  },
  {
   "cell_type": "code",
   "execution_count": 10,
   "metadata": {
    "collapsed": false
   },
   "outputs": [
    {
     "name": "stdout",
     "output_type": "stream",
     "text": [
      "[[\"這\", \"Nep\"], [\"是\", \"SHI\"], [\"中文\", \"Na\"], [\"斷詞\", \"Na\"], [\"系統\", \"Na\"], [\"。\", \"PUNC\"]]\n"
     ]
    }
   ],
   "source": [
    "# 詞斷標記\n",
    "L1=tagger.procSent(L)\n",
    "print json.dumps(L1, ensure_ascii=False)"
   ]
  }
 ],
 "metadata": {
  "kernelspec": {
   "display_name": "Python 2",
   "language": "python",
   "name": "python2"
  },
  "language_info": {
   "codemirror_mode": {
    "name": "ipython",
    "version": 2
   },
   "file_extension": ".py",
   "mimetype": "text/x-python",
   "name": "python",
   "nbconvert_exporter": "python",
   "pygments_lexer": "ipython2",
   "version": "2.7.10"
  }
 },
 "nbformat": 4,
 "nbformat_minor": 0
}
