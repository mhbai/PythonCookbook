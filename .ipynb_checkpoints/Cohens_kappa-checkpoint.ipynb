{
 "cells": [
  {
   "cell_type": "code",
   "execution_count": 16,
   "metadata": {
    "collapsed": true
   },
   "outputs": [],
   "source": [
    "import xlrd,json\n",
    "from collections import defaultdict\n",
    "from nltk.metrics.agreement import AnnotationTask\n",
    "import os.path\n",
    "import re"
   ]
  },
  {
   "cell_type": "code",
   "execution_count": 40,
   "metadata": {
    "collapsed": false
   },
   "outputs": [
    {
     "name": "stdout",
     "output_type": "stream",
     "text": [
      "1 工作表1\n",
      "[u'gold standard', u'Xue', u'Luo', u'Wu', u'Lee']\n",
      "kappa(gold standard,Xue)= 0.674713234035\n",
      "kappa(gold standard,Luo)= 0.640732008533\n",
      "kappa(gold standard,Wu)= 0.727945135602\n",
      "kappa(gold standard,Lee)= 0.756373937677\n",
      "kappa(Xue,Luo)= 0.591616800431\n",
      "kappa(Xue,Wu)= 0.597323049002\n",
      "kappa(Xue,Lee)= 0.636156907334\n",
      "kappa(Luo,Wu)= 0.531184596065\n",
      "kappa(Luo,Lee)= 0.569074068892\n",
      "kappa(Wu,Lee)= 0.63355507949\n"
     ]
    }
   ],
   "source": [
    "wb = xlrd.open_workbook('all-4.xlsx')\n",
    "\n",
    "sh=wb.sheet_by_index(1)\n",
    "print sheet_i,\n",
    "print sh.name\n",
    "Annotators=[]\n",
    "TagCols=[1,2,4,6,10]\n",
    "for col_i in TagCols:\n",
    "\tAnnotators.append(sh.cell(0,col_i).value.strip())\n",
    "print Annotators\n",
    "\n",
    "dataT=defaultdict(list)\n",
    "for row_i in range(1,201):\n",
    "\tfor idx,col_i in enumerate(TagCols):\n",
    "\t\tannotator=Annotators[idx]\n",
    "\t\titem_label=\"%d\"%sh.cell(row_i,0).value\n",
    "\t\ttag_label=sh.cell(row_i,col_i).value\n",
    "\t\ttag_label=re.sub('\\[[0-9]*\\]','',tag_label).strip().lower()\n",
    "\t\tdataT[annotator].append((annotator, item_label, tag_label))\n",
    "#print json.dumps(dataT,indent=4)\t\t\n",
    "for idx, A in enumerate(Annotators):\n",
    "\tfor jdx, B in enumerate(Annotators):\n",
    "\t\tif idx>=jdx:\n",
    "\t\t\tcontinue\n",
    "\t\tL=dataT[A]+dataT[B]\n",
    "\t\tprint \"kappa(%s,%s)=\"%(A,B),\n",
    "\t\t#print json.dumps(L, indent=4)\n",
    "\t\tt=AnnotationTask(data=L)\n",
    "\t\tprint t.kappa()\n",
    "\n",
    "\t\t"
   ]
  }
 ],
 "metadata": {
  "kernelspec": {
   "display_name": "Python 2",
   "language": "python",
   "name": "python2"
  },
  "language_info": {
   "codemirror_mode": {
    "name": "ipython",
    "version": 2
   },
   "file_extension": ".py",
   "mimetype": "text/x-python",
   "name": "python",
   "nbconvert_exporter": "python",
   "pygments_lexer": "ipython2",
   "version": "2.7.10"
  }
 },
 "nbformat": 4,
 "nbformat_minor": 0
}
