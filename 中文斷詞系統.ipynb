{
 "cells": [
  {
   "cell_type": "code",
   "execution_count": 2,
   "metadata": {
    "collapsed": true
   },
   "outputs": [],
   "source": [
    "# 中文斷詞系統\n",
    "from Segmentor import *\n",
    "import json"
   ]
  },
  {
   "cell_type": "code",
   "execution_count": 3,
   "metadata": {
    "collapsed": true
   },
   "outputs": [],
   "source": [
    "segmentor = Segmentor()\n",
    "tagger = POSTagger()"
   ]
  },
  {
   "cell_type": "code",
   "execution_count": 8,
   "metadata": {
    "collapsed": false
   },
   "outputs": [
    {
     "name": "stdout",
     "output_type": "stream",
     "text": [
      "[\"這\", \"是\", \"中文\", \"斷詞\", \"系統\", \"。\"]\n"
     ]
    }
   ],
   "source": [
    "# 單句斷詞\n",
    "L1=segmentor.procSent(u\"這是中文斷詞系統。\")\n",
    "print json.dumps(L1, ensure_ascii=False)"
   ]
  },
  {
   "cell_type": "code",
   "execution_count": 9,
   "metadata": {
    "collapsed": false
   },
   "outputs": [
    {
     "name": "stdout",
     "output_type": "stream",
     "text": [
      "[[\"這\", \"是\", \"第一\", \"句\", \"，\"], [\"這\", \"是\", \"第二\", \"句\", \"。\"]]\n"
     ]
    }
   ],
   "source": [
    "# 多句斷詞\n",
    "L2=segmentor.procSents([u\"這是第一句，\",u\"這是第二句。\"])\n",
    "print json.dumps(L2, ensure_ascii=False)"
   ]
  },
  {
   "cell_type": "code",
   "execution_count": 11,
   "metadata": {
    "collapsed": false
   },
   "outputs": [
    {
     "name": "stdout",
     "output_type": "stream",
     "text": [
      "[[\"這\", \"Nep\"], [\"是\", \"SHI\"], [\"中文\", \"Na\"], [\"斷詞\", \"Na\"], [\"系統\", \"Na\"], [\"。\", \"PUNC\"]]\n",
      "[[[\"這\", \"Nep\"], [\"是\", \"SHI\"], [\"第一\", \"Neu\"], [\"句\", \"Nf\"], [\"，\", \"PUNC\"]], [[\"這\", \"Nep\"], [\"是\", \"SHI\"], [\"第二\", \"Neu\"], [\"句\", \"Nf\"], [\"。\", \"PUNC\"]]]\n"
     ]
    }
   ],
   "source": [
    "# 詞斷標記\n",
    "# 單句標記\n",
    "tagL1=tagger.procSent(L1)\n",
    "print json.dumps(tagL1, ensure_ascii=False)\n"
   ]
  },
  {
   "cell_type": "code",
   "execution_count": 12,
   "metadata": {
    "collapsed": false
   },
   "outputs": [
    {
     "name": "stdout",
     "output_type": "stream",
     "text": [
      "[[[\"這\", \"Nep\"], [\"是\", \"SHI\"], [\"第一\", \"Neu\"], [\"句\", \"Nf\"], [\"，\", \"PUNC\"]], [[\"這\", \"Nep\"], [\"是\", \"SHI\"], [\"第二\", \"Neu\"], [\"句\", \"Nf\"], [\"。\", \"PUNC\"]]]\n"
     ]
    }
   ],
   "source": [
    "# 多句標記\n",
    "tagL2=tagger.procSents(L2)\n",
    "print json.dumps(tagL2, ensure_ascii=False)"
   ]
  }
 ],
 "metadata": {
  "kernelspec": {
   "display_name": "Python 2",
   "language": "python",
   "name": "python2"
  },
  "language_info": {
   "codemirror_mode": {
    "name": "ipython",
    "version": 2
   },
   "file_extension": ".py",
   "mimetype": "text/x-python",
   "name": "python",
   "nbconvert_exporter": "python",
   "pygments_lexer": "ipython2",
   "version": "2.7.10"
  }
 },
 "nbformat": 4,
 "nbformat_minor": 0
}
