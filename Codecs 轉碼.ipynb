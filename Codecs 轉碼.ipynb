{
 "cells": [
  {
   "cell_type": "code",
   "execution_count": 6,
   "metadata": {
    "collapsed": false
   },
   "outputs": [
    {
     "name": "stdout",
     "output_type": "stream",
     "text": [
      "這是測試無法轉碼時的處理，「阿&#38310;佛國」\n"
     ]
    }
   ],
   "source": [
    "# 轉碼錯誤除了 ignore 之外的，還可以做特別的處理 \n",
    "import codecs\n",
    "class DecodeErrorHandler:\n",
    "\tdef __init__(self):\n",
    "\t\tself.error_flag=False\n",
    "\t\tself.error=\"\"\n",
    "\tdef ignore(self,err):\n",
    "\t\tstart = err.start\n",
    "\t\tend = err.end\n",
    "\t\t#print err.args\n",
    "\t\terrorL=[err.object[i] for i in range(start,end)]\n",
    "\t\trep=u\"\".join([u\"&#{0};\".format(ord(err.object[i])) for i in range(start,end)])\n",
    "\t\tself.error=(rep,errorL)\n",
    "\t\tself.error_flag=True\n",
    "\t\treturn (u\"\".join([u\"&#{0};\".format(ord(err.object[i])) for i in range(start,end)]),end)\n",
    "\t\t#return (u\"\",end)\n",
    "handler=DecodeErrorHandler()\n",
    "codecs.register_error('xmlcharreffallback', handler.ignore)\n",
    "\n",
    "a=u\"這是測試無法轉碼時的處理，「阿閦佛國」\"\n",
    "print a.encode(\"BIG5\", \"xmlcharreffallback\").decode(\"BIG5\")"
   ]
  }
 ],
 "metadata": {
  "kernelspec": {
   "display_name": "Python 2",
   "language": "python",
   "name": "python2"
  },
  "language_info": {
   "codemirror_mode": {
    "name": "ipython",
    "version": 2
   },
   "file_extension": ".py",
   "mimetype": "text/x-python",
   "name": "python",
   "nbconvert_exporter": "python",
   "pygments_lexer": "ipython2",
   "version": "2.7.10"
  }
 },
 "nbformat": 4,
 "nbformat_minor": 0
}
