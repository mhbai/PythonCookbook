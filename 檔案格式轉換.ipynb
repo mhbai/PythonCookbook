{
 "cells": [
  {
   "cell_type": "code",
   "execution_count": null,
   "metadata": {
    "collapsed": true
   },
   "outputs": [],
   "source": [
    "# rtf 轉 txt\n",
    "import subprocess\n",
    "def readRTF(filename):\n",
    "\tout,err=subprocess.Popen(['unrtf','--text',filename],stdout=subprocess.PIPE,stderr=subprocess.PIPE).communicate()\n",
    "\tout=re.sub('^(### [^\\n]*\\n)*\\n-----------------\\n','',out)\n",
    "\treturn out\n",
    "\n",
    "doc=readRTF(\"/cygdrive/c/Users/mhbai/Dropbox/011_語料庫/002_雙語/001_光華雜誌/001_原始語料/103年採購/201401/201401006e.rtf\")\n",
    "print doc"
   ]
  }
 ],
 "metadata": {
  "kernelspec": {
   "display_name": "Python 2",
   "language": "python",
   "name": "python2"
  },
  "language_info": {
   "codemirror_mode": {
    "name": "ipython",
    "version": 2
   },
   "file_extension": ".py",
   "mimetype": "text/x-python",
   "name": "python",
   "nbconvert_exporter": "python",
   "pygments_lexer": "ipython2",
   "version": "2.7.12"
  }
 },
 "nbformat": 4,
 "nbformat_minor": 0
}
